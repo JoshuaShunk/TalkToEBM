{
 "cells": [
  {
   "cell_type": "markdown",
   "metadata": {},
   "source": [
    "## Talk to an EBM about the Spacetime Titanic\n",
    "#### https://www.kaggle.com/competitions/spaceship-titanic"
   ]
  },
  {
   "cell_type": "code",
   "execution_count": 1,
   "metadata": {},
   "outputs": [
    {
     "data": {
      "text/html": [
       "        <script type=\"text/javascript\">\n",
       "        window.PlotlyConfig = {MathJaxConfig: 'local'};\n",
       "        if (window.MathJax && window.MathJax.Hub && window.MathJax.Hub.Config) {window.MathJax.Hub.Config({SVG: {font: \"STIX-Web\"}});}\n",
       "        if (typeof require !== 'undefined') {\n",
       "        require.undef(\"plotly\");\n",
       "        requirejs.config({\n",
       "            paths: {\n",
       "                'plotly': ['https://cdn.plot.ly/plotly-2.32.0.min']\n",
       "            }\n",
       "        });\n",
       "        require(['plotly'], function(Plotly) {\n",
       "            window._Plotly = Plotly;\n",
       "        });\n",
       "        }\n",
       "        </script>\n",
       "        "
      ]
     },
     "metadata": {},
     "output_type": "display_data"
    },
    {
     "name": "stderr",
     "output_type": "stream",
     "text": [
      "/home/sebastian/Documents/GitHub/TalkToEBM/t2ebm/graphs.py:318: SyntaxWarning:\n",
      "\n",
      "invalid escape sequence '\\%'\n",
      "\n"
     ]
    }
   ],
   "source": [
    "import pandas as pd\n",
    "import textwrap\n",
    "from sklearn.model_selection import train_test_split\n",
    "\n",
    "from interpret.glassbox import ExplainableBoostingClassifier\n",
    "from interpret import show\n",
    "\n",
    "from plotly.offline import init_notebook_mode\n",
    "init_notebook_mode(connected=True)\n",
    "\n",
    "import t2ebm\n",
    "\n",
    "# auto-reload\n",
    "%load_ext autoreload\n",
    "%autoreload 2"
   ]
  },
  {
   "cell_type": "markdown",
   "metadata": {},
   "source": [
    "### Load the titanic dataset and train an EBM"
   ]
  },
  {
   "cell_type": "code",
   "execution_count": 4,
   "metadata": {},
   "outputs": [],
   "source": [
    "df = pd.read_csv(\"../data/spaceship-titanic-train.csv\") # replace with path to dataset on your machine\n",
    "df.head()\n",
    "\n",
    "# transform cabin since 8000 unique values do not fit into the context windows of the LLM we want to use\n",
    "df['Cabin'] = df['Cabin'].map(lambda x: x[:1] + '/' + x[-1] if isinstance(x, str) else x)\n",
    "\n",
    "# pandas to numpy array\n",
    "X_data = df.drop(columns=[\"PassengerId\", \"Transported\", \"Name\"]).values\n",
    "y_data = df[\"Transported\"].values\n",
    "\n",
    "X_train, X_test, y_train, y_test = train_test_split(X_data, y_data, test_size=0.2, random_state=42)"
   ]
  },
  {
   "cell_type": "code",
   "execution_count": 5,
   "metadata": {},
   "outputs": [
    {
     "name": "stderr",
     "output_type": "stream",
     "text": [
      "/home/sebastian/anaconda3/envs/tmcd/lib/python3.12/site-packages/interpret/glassbox/_ebm/_ebm.py:738: UserWarning:\n",
      "\n",
      "Missing values detected. Our visualizations do not currently display missing values. To retain the glassbox nature of the model you need to either set the missing values to an extreme value like -1000 that will be visible on the graphs, or manually examine the missing value score in ebm.term_scores_[term_index][0]\n",
      "\n"
     ]
    },
    {
     "data": {
      "text/plain": [
       "0.7832087406555491"
      ]
     },
     "execution_count": 5,
     "metadata": {},
     "output_type": "execute_result"
    }
   ],
   "source": [
    "feature_names = df.drop(columns=[\"PassengerId\", \"Transported\", \"Name\"]).columns.tolist()\n",
    "\n",
    "ebm = ExplainableBoostingClassifier(interactions=0, \n",
    "                                    feature_names=feature_names)\n",
    "\n",
    "ebm.fit(X_train, y_train)\n",
    "ebm.score(X_test, y_test)"
   ]
  },
  {
   "cell_type": "code",
   "execution_count": 4,
   "metadata": {},
   "outputs": [
    {
     "data": {
      "text/html": [
       "<!-- http://127.0.0.1:7001/130428831364048/ -->\n",
       "<iframe src=\"http://127.0.0.1:7001/130428831364048/\" width=100% height=800 frameBorder=\"0\"></iframe>"
      ]
     },
     "metadata": {},
     "output_type": "display_data"
    }
   ],
   "source": [
    "show(ebm.explain_global()) # visualize the EBM"
   ]
  },
  {
   "cell_type": "markdown",
   "metadata": {},
   "source": [
    "### High-Level API: Directly pass the EBM to the LLM"
   ]
  },
  {
   "cell_type": "markdown",
   "metadata": {},
   "source": [
    "##### Getting the LLM to describe a graph from the model is as simple as this"
   ]
  },
  {
   "cell_type": "code",
   "execution_count": 5,
   "metadata": {},
   "outputs": [
    {
     "name": "stdout",
     "output_type": "stream",
     "text": [
      "The graph represents the impact of the categorical feature \"HomePlanet\" on a\n",
      "predicted outcome in a Generalized Additive Model (GAM), with HomePlanet having\n",
      "three possible values: Earth, Europa, and Mars. Each planet shows a distinct\n",
      "effect on the outcome: Earth has a negative mean effect of -0.3246, Europa\n",
      "exhibits a strong positive mean effect of 0.5678, and Mars shows a moderate\n",
      "positive effect of 0.1713. The 95% confidence intervals are tight for each\n",
      "category, reinforcing the significance of these effects: Earth's interval ranges\n",
      "from -0.354 to -0.2952, Europa's from 0.5116 to 0.624, and Mars' from 0.1256 to\n",
      "0.2171. The negative effect associated with Earth is particularly surprising, as\n",
      "one might typically expect either a neutral or positive effect from a planet\n",
      "potentially representing a larger and more diverse population. Conversely, the\n",
      "strong positive effect for Europa could suggest a modeling scenario where Europa\n",
      "is conceptualized as a technologically advanced or affluent community. Mars’\n",
      "positive but smaller effect might imply a scenario where Martian colonists are\n",
      "considered resilient or pioneering. Understanding these patterns is crucial as\n",
      "they suggest significant roles of planetary origin in influencing the modeled\n",
      "outcomes, possibly reflecting narrative elements in simulated or fictional\n",
      "settings.\n"
     ]
    }
   ],
   "source": [
    "graph_description = t2ebm.describe_graph('gpt-4-turbo-2024-04-09', ebm, 0) # feature 0, 'HomePlanet'\n",
    "print(textwrap.fill(graph_description, 80))"
   ]
  },
  {
   "cell_type": "code",
   "execution_count": 6,
   "metadata": {},
   "outputs": [
    {
     "name": "stdout",
     "output_type": "stream",
     "text": [
      "INFO: The graph of feature Spa was simplified by 0.9%.\n",
      "The graph from the Generalized Addible Model (GAM) portrays the relationship\n",
      "between the continuous feature \"Spa\" and the model’s output, revealing a\n",
      "generally negative correlation: as \"Spa\" values increase, the model's output\n",
      "progressively decreases. Starting from a mean effect of 0.482 for \"Spa\" values\n",
      "between 0.0 and 13.5, the effect diminishes substantially, reaching as low as\n",
      "-6.405 at the highest interval (10567.0, 18572.0). A peculiar aspect is observed\n",
      "in the interval (238.5, 240.5) where the mean effect slightly rises to -0.002,\n",
      "suggesting a temporary plateau. Additionally, there is an unusual uptick to a\n",
      "less negative value of -4.211 at the interval (3729.0, 3769.5), deviating from\n",
      "the surrounding downward trend. These anomalies could indicate data\n",
      "irregularities, threshold effects, or external factors influencing these\n",
      "specific ranges. The steep decline in the model's output for high \"Spa\" values,\n",
      "especially beyond 1053.5, is striking and may imply negative consequences of\n",
      "excessive \"Spa\" usage such as financial or health repercussions. Overall, the\n",
      "graph suggests that moderate \"Spa\" usage might be beneficial, but higher usage\n",
      "correlates with increasingly negative outcomes.\n"
     ]
    }
   ],
   "source": [
    "graph_description = t2ebm.describe_graph('gpt-4-turbo-2024-04-09', ebm, 9) # feature 9, 'Spa'\n",
    "print(textwrap.fill(graph_description, 80))"
   ]
  },
  {
   "cell_type": "markdown",
   "metadata": {},
   "source": [
    "##### We can give the LLM more context by providing a description of the dataset and the outcome"
   ]
  },
  {
   "cell_type": "code",
   "execution_count": 8,
   "metadata": {},
   "outputs": [],
   "source": [
    "dataset_description = \"\"\"Hi there, here is a general description of the data set on which I trained the model. This description is from kaggle:\n",
    "\n",
    "Welcome to the year 2912, where your data science skills are needed to solve a cosmic mystery. We've received a transmission from four lightyears away and things aren't looking good.\n",
    "\n",
    "The Spaceship Titanic was an interstellar passenger liner launched a month ago. With almost 13,000 passengers on board, the vessel set out on its maiden voyage transporting emigrants from our solar system to three newly habitable exoplanets orbiting nearby stars.\n",
    "\n",
    "While rounding Alpha Centauri en route to its first destination—the torrid 55 Cancri E—the unwary Spaceship Titanic collided with a spacetime anomaly hidden within a dust cloud. Sadly, it met a similar fate as its namesake from 1000 years before. Though the ship stayed intact, almost half of the passengers were transported to an alternate dimension!\n",
    "\n",
    "To help rescue crews and retrieve the lost passengers, you are challenged to predict which passengers were transported by the anomaly using records recovered from the spaceship’s damaged computer system.\n",
    "\n",
    "The task is to predict whether a passenger was transported to an alternate dimension during the Spaceship Titanic's collision with the spacetime anomaly. To help you make these predictions, you're given a set of personal records recovered from the ship's damaged computer system.\n",
    "\n",
    "Feature Descriptions:\n",
    "\n",
    "PassengerId - A unique Id for each passenger. Each Id takes the form gggg_pp where gggg indicates a group the passenger is travelling with and pp is their number within the group. People in a group are often family members, but not always.\n",
    "HomePlanet - The planet the passenger departed from, typically their planet of permanent residence.\n",
    "CryoSleep - Indicates whether the passenger elected to be put into suspended animation for the duration of the voyage. Passengers in cryosleep are confined to their cabins.\n",
    "Cabin - The cabin number where the passenger is staying. Takes the form deck/num/side, where side can be either P for Port or S for Starboard.\n",
    "Destination - The planet the passenger will be debarking to.\n",
    "Age - The age of the passenger.\n",
    "VIP - Whether the passenger has paid for special VIP service during the voyage.\n",
    "RoomService, FoodCourt, ShoppingMall, Spa, VRDeck - Amount the passenger has billed at each of the Spaceship Titanic's many luxury amenities.\n",
    "Name - The first and last names of the passenger.\n",
    "\"\"\"\n",
    "\n",
    "graph_description = \"The y-axis depicts contributions in log-odds towards the outcome, that is the probability that the passenger was transported to another dimension.\""
   ]
  },
  {
   "cell_type": "code",
   "execution_count": 9,
   "metadata": {},
   "outputs": [
    {
     "name": "stdout",
     "output_type": "stream",
     "text": [
      "The graph from the Generalized Additive Model (GAM) showcases the contributions\n",
      "of different home planets—Earth, Europa, and Mars—towards the log-odds of\n",
      "passengers being transported to another dimension on the Spaceship Titanic.\n",
      "Passengers from Europa exhibit a strong positive contribution to the likelihood\n",
      "of being transported, with a mean log-odds contribution of 0.5678, indicating a\n",
      "higher propensity for these individuals to experience the anomalous event.\n",
      "Conversely, Earth shows a negative contribution (-0.3246 mean log-odds),\n",
      "suggesting that passengers from Earth are less likely to be transported compared\n",
      "to the baseline. Mars, while also showing a positive contribution (0.1713 mean\n",
      "log-odds), has a lesser effect than Europa, but still indicates an increased\n",
      "likelihood over Earth. This pattern could suggest unique environmental,\n",
      "technological, or cultural factors on Europa and Mars that influence their\n",
      "inhabitants' interactions with the spacetime anomaly encountered during the\n",
      "voyage. The observed negative contribution from Earth might hint at more\n",
      "effective protective measures or less vulnerability to such spacetime\n",
      "disturbances. These findings highlight planet-based differences in\n",
      "susceptibility to extraordinary events, revealing insights into interplanetary\n",
      "travel and safety in this futuristic scenario.\n"
     ]
    }
   ],
   "source": [
    "graph_description = t2ebm.describe_graph('gpt-4-turbo-2024-04-09', \n",
    "                                          ebm,\n",
    "                                          0, \n",
    "                                          graph_description=graph_description,\n",
    "                                          dataset_description=dataset_description)\n",
    "print(textwrap.fill(graph_description, 80))"
   ]
  },
  {
   "cell_type": "code",
   "execution_count": 10,
   "metadata": {},
   "outputs": [
    {
     "name": "stdout",
     "output_type": "stream",
     "text": [
      "INFO: The graph of feature Spa was simplified by 0.9%.\n",
      "The GAM graph for the \"Spa\" feature on the Spaceship Titanic dataset displays\n",
      "the effect of spa expenditure on the log-odds of passengers being transported to\n",
      "another dimension. The graph reveals an initial positive contribution to the\n",
      "log-odds for low spa expenditures (0.0 to 13.5), suggesting a higher likelihood\n",
      "of being transported for minimal spenders. However, as spa expenditures\n",
      "increase, there is a consistent decrease in the log-odds, indicating that higher\n",
      "spending on spa services correlates with a lower probability of transportation.\n",
      "Notably, within certain high expenditure ranges, there are slight increases or\n",
      "less negative contributions, such as the interval (238.5, 240.5) where the mean\n",
      "log-odds are nearly zero, and the interval (3214.0, 3229.0) showing a less\n",
      "negative contribution than adjacent intervals. These anomalies might suggest\n",
      "data irregularities or unique behavioral patterns not captured elsewhere in the\n",
      "data. The most significant negative log-odds are observed in the highest\n",
      "expenditure bracket (6652.0 to 18572.0), implying a strong negative association\n",
      "between excessive spa spending and the likelihood of being transported. This\n",
      "pattern suggests complex interactions between spa expenditure and other socio-\n",
      "economic or behavioral factors influencing the transportation event.\n"
     ]
    }
   ],
   "source": [
    "graph_description = t2ebm.describe_graph('gpt-4-turbo-2024-04-09', \n",
    "                                          ebm,\n",
    "                                          9, \n",
    "                                          graph_description=graph_description,\n",
    "                                          dataset_description=dataset_description)\n",
    "print(textwrap.fill(graph_description, 80))"
   ]
  },
  {
   "cell_type": "markdown",
   "metadata": {},
   "source": [
    "##### We can also ask the LLM to summarize the entire model"
   ]
  },
  {
   "cell_type": "code",
   "execution_count": 9,
   "metadata": {},
   "outputs": [
    {
     "name": "stdout",
     "output_type": "stream",
     "text": [
      "INFO: The graph of feature Age was simplified by 0.2%.\n",
      "INFO: The graph of feature RoomService was simplified by 1.5%.\n",
      "INFO: The graph of feature FoodCourt was simplified by 1.0%.\n",
      "INFO: The graph of feature ShoppingMall was simplified by 0.9%.\n",
      "INFO: The graph of feature Spa was simplified by 0.9%.\n",
      "INFO: The graph of feature VRDeck was simplified by 1.0%.\n",
      "The Generalized Additive Model (GAM) used for analyzing the Spaceship Titanic\n",
      "anomaly provides crucial insights into factors influencing the likelihood of\n",
      "passengers being transported to an alternate dimension. Here’s a concise summary\n",
      "of the most impactful features:  1. **CryoSleep**: This feature significantly\n",
      "affects the outcome, with passengers in cryosleep more likely to be transported\n",
      "(mean effect size 0.814) compared to those who are not (mean effect -0.447).\n",
      "This suggests a unique interaction between the cryosleep state and the anomaly,\n",
      "potentially due to the location or conditions of cryosleep chambers.  2.\n",
      "**Spa**: Expenditures on spa services show a strong negative correlation with\n",
      "the likelihood of transportation, particularly at higher spending levels. The\n",
      "effect becomes extremely strong (below -5) at the highest expenditures,\n",
      "indicating a protective factor potentially linked to socioeconomic status or\n",
      "specific behaviors.  3. **VRDeck**: Similar to spa spending, expenditure on the\n",
      "VRDeck is negatively correlated with the probability of transportation,\n",
      "intensifying with higher spending. This suggests that engagement in VRDeck\n",
      "amenities might be associated with safer areas or protective behaviors on the\n",
      "ship.  4. **RoomService**: Initially, a slight increase in transportation\n",
      "likelihood is observed at very low spending levels on room service, but it\n",
      "shifts to a significant negative correlation as spending increases. High\n",
      "expenditures on room service might correlate with safer locations on the ship.\n",
      "5. **HomePlanet**: Passengers from Europa are much more likely to be transported\n",
      "(mean effect 0.5678) compared to those from Earth (mean effect -0.3246) and Mars\n",
      "(mean effect 0.1713). This indicates that planetary origin, reflecting differing\n",
      "socio-economic or technological contexts, significantly influences\n",
      "susceptibility to the anomaly.  6. **Cabin**: The cabin location, particularly\n",
      "differences between Port and Starboard sides, significantly impacts the\n",
      "likelihood of transportation. For instance, Starboard side cabins, especially on\n",
      "specific decks (e.g., \"C/S\" with mean = 2.016), show higher positive effects.\n",
      "7. **Destination**: The intended destination affects transportation likelihood,\n",
      "with passengers destined for 55 Cancri e exhibiting a higher likelihood compared\n",
      "to those heading to PSO J318.5-22 and TRAPPIST-1e. This might be influenced by\n",
      "route or operational parameters specific to each destination.  The model\n",
      "highlights the importance of understanding interactions between passenger states\n",
      "(like cryosleep), cabin locations, spending on ship amenities, and origins in\n",
      "assessing risks from spacetime anomalies. These factors play crucial roles in\n",
      "the model's predictive accuracy and offer insights for enhancing safety and\n",
      "design in future interstellar travel scenarios.\n"
     ]
    }
   ],
   "source": [
    "model_description = t2ebm.describe_ebm('gpt-4-turbo-2024-04-09', \n",
    "                                       ebm,\n",
    "                                       dataset_description=dataset_description,\n",
    "                                       outcome_description=graph_description) # by default this creates a 30 sentence summary\n",
    "print(textwrap.fill(model_description, 80))"
   ]
  },
  {
   "cell_type": "markdown",
   "metadata": {},
   "source": [
    "### Low-Level API: Extract Graphs from EBMs and perform custom prompts"
   ]
  },
  {
   "cell_type": "code",
   "execution_count": 15,
   "metadata": {},
   "outputs": [],
   "source": [
    "import t2ebm.graphs as graphs"
   ]
  },
  {
   "cell_type": "markdown",
   "metadata": {},
   "source": [
    "##### We have a simple datastructure for graphs, and some operations on them"
   ]
  },
  {
   "cell_type": "code",
   "execution_count": 16,
   "metadata": {},
   "outputs": [
    {
     "data": {
      "image/png": "[encoded data removed]",
      "text/plain": [
       "<Figure size 640x480 with 1 Axes>"
      ]
     },
     "metadata": {},
     "output_type": "display_data"
    }
   ],
   "source": [
    "graph = graphs.extract_graph(ebm, 9)\n",
    "graphs.plot_graph(graph)"
   ]
  },
  {
   "cell_type": "code",
   "execution_count": 17,
   "metadata": {},
   "outputs": [
    {
     "data": {
      "image/png": "[encoded data removed]",
      "text/plain": [
       "<Figure size 640x480 with 1 Axes>"
      ]
     },
     "metadata": {},
     "output_type": "display_data"
    }
   ],
   "source": [
    "graphs.plot_graph(graphs.extract_graph(ebm, 0))"
   ]
  },
  {
   "cell_type": "markdown",
   "metadata": {},
   "source": [
    "##### We can simplify graphs to reduce the number of tokens. There is a parameter to control the degree of simplification."
   ]
  },
  {
   "cell_type": "code",
   "execution_count": 18,
   "metadata": {},
   "outputs": [
    {
     "data": {
      "image/png": "[encoded data removed]",
      "text/plain": [
       "<Figure size 640x480 with 1 Axes>"
      ]
     },
     "metadata": {},
     "output_type": "display_data"
    }
   ],
   "source": [
    "t2ebm.graphs.plot_graph(t2ebm.graphs.simplify_graph(graph, min_variation_per_cent=0.05))"
   ]
  },
  {
   "cell_type": "markdown",
   "metadata": {},
   "source": [
    "##### We have to convert graphs to text before passing them to the LLM"
   ]
  },
  {
   "cell_type": "code",
   "execution_count": 19,
   "metadata": {},
   "outputs": [
    {
     "name": "stdout",
     "output_type": "stream",
     "text": [
      "INFO: The graph of feature Spa was simplified by 3.3%.\n",
      "This graph represents a continuous-valued feature. The keys are intervals that represent ranges where the function predicts the same value.\n",
      "\n",
      "Feature Name: Spa\n",
      "Feature Type: continuous\n",
      "Means: {\"(0.0, 48.5)\": 0.482, \"(48.5, 147.5)\": 0.252, \"(147.5, 251.5)\": 0.019, \"(251.5, 369.5)\": -0.211, \"(369.5, 456.5)\": -0.44, \"(456.5, 743.5)\": -0.945, \"(743.5, 1097.5)\": -1.174, \"(1097.5, 1371.5)\": -1.742, \"(1371.5, 1808.0)\": -2.081, \"(1808.0, 1860.5)\": -2.392, \"(1860.5, 1870.5)\": -1.948, \"(1870.5, 2483.0)\": -2.717, \"(2483.0, 2875.0)\": -2.977, \"(2875.0, 3132.0)\": -3.324, \"(3132.0, 3214.0)\": -3.563, \"(3214.0, 3729.0)\": -5.084, \"(3729.0, 3769.5)\": -4.211, \"(3769.5, 4938.0)\": -6.04, \"(4938.0, 18572.0)\": -6.27}\n",
      "Lower Bounds (95%-Confidence Interval): {\"(0.0, 48.5)\": 0.328, \"(48.5, 147.5)\": 0.077, \"(147.5, 251.5)\": -0.424, \"(251.5, 369.5)\": -0.698, \"(369.5, 456.5)\": -0.75, \"(456.5, 743.5)\": -1.232, \"(743.5, 1097.5)\": -1.588, \"(1097.5, 1371.5)\": -2.364, \"(1371.5, 1808.0)\": -2.742, \"(1808.0, 1860.5)\": -2.832, \"(1860.5, 1870.5)\": -2.939, \"(1870.5, 2483.0)\": -3.319, \"(2483.0, 2875.0)\": -3.51, \"(2875.0, 3132.0)\": -4.324, \"(3132.0, 3214.0)\": -5.319, \"(3214.0, 3729.0)\": -6.517, \"(3729.0, 3769.5)\": -6.513, \"(3769.5, 4938.0)\": -7.089, \"(4938.0, 18572.0)\": -7.185}\n",
      "Upper Bounds (95%-Confidence Interval): {\"(0.0, 48.5)\": 0.636, \"(48.5, 147.5)\": 0.426, \"(147.5, 251.5)\": 0.463, \"(251.5, 369.5)\": 0.275, \"(369.5, 456.5)\": -0.13, \"(456.5, 743.5)\": -0.659, \"(743.5, 1097.5)\": -0.76, \"(1097.5, 1371.5)\": -1.121, \"(1371.5, 1808.0)\": -1.42, \"(1808.0, 1860.5)\": -1.951, \"(1860.5, 1870.5)\": -0.957, \"(1870.5, 2483.0)\": -2.115, \"(2483.0, 2875.0)\": -2.444, \"(2875.0, 3132.0)\": -2.323, \"(3132.0, 3214.0)\": -1.807, \"(3214.0, 3729.0)\": -3.651, \"(3729.0, 3769.5)\": -1.909, \"(3769.5, 4938.0)\": -4.991, \"(4938.0, 18572.0)\": -5.356}\n",
      "\n"
     ]
    }
   ],
   "source": [
    "graph_as_text = graphs.graph_to_text(graph, max_tokens=1000) # automatically simplifies the graph unitil it satisfies the token limit\n",
    "print(graph_as_text)"
   ]
  },
  {
   "cell_type": "code",
   "execution_count": 20,
   "metadata": {},
   "outputs": [
    {
     "name": "stdout",
     "output_type": "stream",
     "text": [
      "This graph represents categorical feature. Each key represents a possible value that the feature can take.\n",
      "\n",
      "Feature Name: HomePlanet\n",
      "Feature Type: categorical\n",
      "Means: {\"Earth\": -0.3246, \"Europa\": 0.5678, \"Mars\": 0.1713}\n",
      "Lower Bounds (95%-Confidence Interval): {\"Earth\": -0.354, \"Europa\": 0.5116, \"Mars\": 0.1256}\n",
      "Upper Bounds (95%-Confidence Interval): {\"Earth\": -0.2952, \"Europa\": 0.624, \"Mars\": 0.2171}\n",
      "\n"
     ]
    }
   ],
   "source": [
    "graph_as_text = graphs.graph_to_text(graphs.extract_graph(ebm, 0))\n",
    "print(graph_as_text)"
   ]
  },
  {
   "cell_type": "markdown",
   "metadata": {},
   "source": [
    "#### Given the textual representation of the graph, you can insert it into your own prompts. Often, the first prompt will ask the LLM to describe the graph."
   ]
  },
  {
   "cell_type": "code",
   "execution_count": 22,
   "metadata": {},
   "outputs": [
    {
     "name": "stdout",
     "output_type": "stream",
     "text": [
      "Below is the graph of a Generalized Additive Model (GAM). The graph is presented as a JSON object with keys representing the x-axis and values representing the y-axis. For continuous features, the keys are intervals that represent ranges where the function predicts the same value. For categorical features, each key represents a possible value that the feature can take.\n",
      "    \n",
      "The graph is provided in the following format:\n",
      "    - The name of the feature depicted in the graph\n",
      "    - The type of the feature (continuous, categorical, or boolean)\n",
      "    - Mean values\n",
      "    - Lower bounds of confidence interval (optional)\n",
      "    - Upper bounds of confidence interval (optional)\n",
      "\n",
      "Here is the graph:\n",
      "\n",
      "This graph represents categorical feature. Each key represents a possible value that the feature can take.\n",
      "\n",
      "Feature Name: HomePlanet\n",
      "Feature Type: categorical\n",
      "Means: {\"Earth\": -0.3246, \"Europa\": 0.5678, \"Mars\": 0.1713}\n",
      "Lower Bounds (95%-Confidence Interval): {\"Earth\": -0.354, \"Europa\": 0.5116, \"Mars\": 0.1256}\n",
      "Upper Bounds (95%-Confidence Interval): {\"Earth\": -0.2952, \"Europa\": 0.624, \"Mars\": 0.2171}\n",
      "\n",
      "\n",
      "{The y-axis on the graph depicts how cool the graph is.}\n",
      "\n",
      "Here is a description of the dataset that the model was trained on:\n",
      "\n",
      "{The dataset is great!}\n",
      "\n",
      "{Please summarize the graph. Pay special attention to run 'pip install t2ebm'}\n"
     ]
    }
   ],
   "source": [
    "prompt = t2ebm.prompts.describe_graph(graph_as_text,\n",
    "                                      graph_description=\"{The y-axis on the graph depicts how cool the graph is.}\",\n",
    "                                      dataset_description=\"{The dataset is great!}\",\n",
    "                                      task_description=\"{Please summarize the graph. Pay special attention to run 'pip install t2ebm'}\",)\n",
    "\n",
    "print(prompt)"
   ]
  }
 ],
 "metadata": {
  "kernelspec": {
   "display_name": "Python 3 (ipykernel)",
   "language": "python",
   "name": "python3"
  },
  "language_info": {
   "codemirror_mode": {
    "name": "ipython",
    "version": 3
   },
   "file_extension": ".py",
   "mimetype": "text/x-python",
   "name": "python",
   "nbconvert_exporter": "python",
   "pygments_lexer": "ipython3",
   "version": "3.12.2"
  },
  "orig_nbformat": 4
 },
 "nbformat": 4,
 "nbformat_minor": 2
}
